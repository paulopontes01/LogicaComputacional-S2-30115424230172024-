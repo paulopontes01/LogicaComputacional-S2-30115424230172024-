{
 "cells": [
  {
   "cell_type": "code",
   "execution_count": 51,
   "id": "132599b9-d3cf-4f68-9145-bc2464a4aae9",
   "metadata": {},
   "outputs": [
    {
     "name": "stdout",
     "output_type": "stream",
     "text": [
      " p | q | r | s | (p->q) | (r->s) | (pVr) | ((p->q)^(r->s)^(pVr)) | (qVs) | D.C\n",
      " v | v | v | v |    v   |    v   |   v   |           v           |    v  |   v\n",
      " v | v | v | f |    v   |    f   |   v   |           f           |    v  |   v\n",
      " v | v | f | v |    v   |    v   |   v   |           v           |    v  |   v\n",
      " v | v | f | f |    v   |    v   |   v   |           v           |    v  |   v\n",
      " v | f | v | v |    f   |    v   |   v   |           f           |    v  |   v\n",
      " v | f | v | f |    f   |    f   |   v   |           f           |    f  |   v\n",
      " v | f | f | v |    f   |    v   |   v   |           f           |    v  |   v\n",
      " v | f | f | f |    f   |    v   |   v   |           f           |    f  |   v\n",
      " f | v | v | v |    v   |    v   |   v   |           v           |    v  |   v\n",
      " f | v | v | f |    v   |    f   |   v   |           f           |    v  |   v\n",
      " f | v | f | v |    v   |    v   |   f   |           f           |    v  |   v\n",
      " f | v | f | f |    v   |    v   |   f   |           f           |    v  |   v\n",
      " f | f | v | v |    v   |    v   |   v   |           v           |    v  |   v\n",
      " f | f | v | f |    v   |    f   |   v   |           f           |    f  |   v\n",
      " f | f | f | v |    v   |    v   |   f   |           f           |    v  |   v\n",
      " f | f | f | f |    v   |    v   |   f   |           f           |    f  |   v\n"
     ]
    }
   ],
   "source": [
    "def trata_entrada(valor):\n",
    "    if valor.lower() == 'v':\n",
    "        return 'v'\n",
    "    else:\n",
    "        return 'f'\n",
    "\n",
    "print(f\" p | q | r | s | (p->q) | (r->s) | (pVr) | ((p->q)^(r->s)^(pVr)) | (qVs) | D.C\")\n",
    "\n",
    "for a in ['v', 'f']:  # p \n",
    "    for b in ['v', 'f']:  # q \n",
    "        for c in ['v', 'f']:  # r\n",
    "            for d in ['v', 'f']:  # s \n",
    "\n",
    "                p = trata_entrada(a)\n",
    "                q = trata_entrada(b)\n",
    "                r = trata_entrada(c)\n",
    "                s = trata_entrada(d)\n",
    "                \n",
    "                # p -> q\n",
    "                if p == 'v' and q == 'f':\n",
    "                    p_implica_q = 'f'\n",
    "                else:\n",
    "                    p_implica_q = 'v'\n",
    "                \n",
    "                # r -> s\n",
    "                if r == 'v' and s == 'f':\n",
    "                    r_implica_s = 'f'\n",
    "                else:\n",
    "                    r_implica_s = 'v'\n",
    "                \n",
    "                # p v r \n",
    "                if p == 'v' or r == 'v':\n",
    "                    p_ou_r = 'v'\n",
    "                else:\n",
    "                    p_ou_r = 'f'\n",
    "                \n",
    "                # q v s \n",
    "                if q == 'v' or s == 'v':\n",
    "                    q_ou_s = 'v'\n",
    "                else:\n",
    "                    q_ou_s = 'f'\n",
    "                \n",
    "                #  (p -> q) ^ (r -> s) ^ (p v r)\n",
    "                if p_implica_q == 'v' and r_implica_s == 'v' and p_ou_r == 'v':\n",
    "                    pqrspv = 'v'\n",
    "                else:\n",
    "                    pqrspv = 'f'\n",
    "                \n",
    "                #  ((p -> q) ^ (r -> s) ^ (p v r)) -> (q v s)\n",
    "                if pqrspv == 'v' and q_ou_s == 'f':\n",
    "                    dc = 'f'\n",
    "                else:\n",
    "                    dc = 'v'\n",
    "                \n",
    "                # Exibir os resultados para essa combinação de p, q, r, s\n",
    "                print(f\" {p} | {q} | {r} | {s} |    {p_implica_q}   |    {r_implica_s}   |   {p_ou_r}   |           {pqrspv}           |    {q_ou_s}  |   {dc}\")\n"
   ]
  },
  {
   "cell_type": "code",
   "execution_count": null,
   "id": "e05dfb2b-2fc3-483f-a5d9-5d481ff67e7b",
   "metadata": {},
   "outputs": [],
   "source": []
  }
 ],
 "metadata": {
  "kernelspec": {
   "display_name": "Python 3 (ipykernel)",
   "language": "python",
   "name": "python3"
  },
  "language_info": {
   "codemirror_mode": {
    "name": "ipython",
    "version": 3
   },
   "file_extension": ".py",
   "mimetype": "text/x-python",
   "name": "python",
   "nbconvert_exporter": "python",
   "pygments_lexer": "ipython3",
   "version": "3.12.4"
  }
 },
 "nbformat": 4,
 "nbformat_minor": 5
}
